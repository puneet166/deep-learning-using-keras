{
 "cells": [
  {
   "cell_type": "markdown",
   "metadata": {},
   "source": [
    "#  Artificial Neural Network "
   ]
  },
  {
   "cell_type": "markdown",
   "metadata": {},
   "source": [
    "# #Part 1 - Data Preprocessing\n"
   ]
  },
  {
   "cell_type": "code",
   "execution_count": 17,
   "metadata": {},
   "outputs": [],
   "source": [
    "\n",
    "\n",
    "\n",
    "\n",
    "# Importing the libraries\n",
    "import numpy as np\n",
    "import matplotlib.pyplot as plt\n",
    "import pandas as pd\n"
   ]
  },
  {
   "cell_type": "code",
   "execution_count": 18,
   "metadata": {},
   "outputs": [],
   "source": [
    "# Importing the dataset\n",
    "dataset = pd.read_csv('Churn_Modelling.csv')\n",
    "X = dataset.iloc[:, 3:13]\n",
    "y = dataset.iloc[:, 13]\n"
   ]
  },
  {
   "cell_type": "code",
   "execution_count": 19,
   "metadata": {},
   "outputs": [],
   "source": [
    "#Create dummy variables\n",
    "geography=pd.get_dummies(X[\"Geography\"],drop_first=True)\n",
    "gender=pd.get_dummies(X['Gender'],drop_first=True)"
   ]
  },
  {
   "cell_type": "code",
   "execution_count": 20,
   "metadata": {},
   "outputs": [],
   "source": [
    "## Concatenate the Data Frames\n",
    "\n",
    "X=pd.concat([X,geography,gender],axis=1)"
   ]
  },
  {
   "cell_type": "code",
   "execution_count": 21,
   "metadata": {},
   "outputs": [],
   "source": [
    "## Drop Unnecessary columns\n",
    "X=X.drop(['Geography','Gender'],axis=1)"
   ]
  },
  {
   "cell_type": "code",
   "execution_count": 22,
   "metadata": {},
   "outputs": [],
   "source": [
    "# Splitting the dataset into the Training set and Test set\n",
    "from sklearn.model_selection import train_test_split\n",
    "X_train, X_test, y_train, y_test = train_test_split(X, y, test_size = 0.2, random_state = 0)"
   ]
  },
  {
   "cell_type": "code",
   "execution_count": 23,
   "metadata": {},
   "outputs": [],
   "source": [
    "# Feature Scaling\n",
    "from sklearn.preprocessing import StandardScaler\n",
    "sc = StandardScaler()\n",
    "X_train = sc.fit_transform(X_train)\n",
    "X_test = sc.transform(X_test)"
   ]
  },
  {
   "cell_type": "markdown",
   "metadata": {},
   "source": [
    "# @-> why do we feature scaling?\n",
    "# ans->for fast calculations and increase computation power\n",
    "# let understand how ?\n",
    "# if weight is 25 and input feauture is 212 when calulcate y=wi*xi+bias.\n",
    "# then y=25*212+bias so it take much time and when we do backpropagations we update weight using derivation if no. is larger and derivation take much time and compuatations cost.\n",
    "# and we also perform lot of iterations so that our algorithm become slower for each iteration it compute y and sigmoid or relu function and do backpropagation. so that we need feauture scaling.\n",
    "# so, we do feauture scaling for convert no in between 0 to 1.\n",
    "# for fast processing \n",
    "# if no is small calculation much easier and our algorithm take less time to compute.\n"
   ]
  },
  {
   "cell_type": "markdown",
   "metadata": {},
   "source": [
    "# # Part 2 - Now let's make the ANN!"
   ]
  },
  {
   "cell_type": "code",
   "execution_count": 24,
   "metadata": {},
   "outputs": [
    {
     "name": "stderr",
     "output_type": "stream",
     "text": [
      "Using TensorFlow backend.\n"
     ]
    }
   ],
   "source": [
    "# Importing the Keras libraries and packages\n",
    "import keras\n",
    "from keras.models import Sequential # its for create ANN algorithm\n",
    "from keras.layers import Dense\n",
    "from keras.layers import LeakyReLU,PReLU,ELU # its for relu activations function \n",
    "from keras.layers import Dropout # its for dropout to check overfitting our ANN"
   ]
  },
  {
   "cell_type": "code",
   "execution_count": 25,
   "metadata": {},
   "outputs": [],
   "source": [
    "# Initialising the ANN\n",
    "classifier = Sequential()# here ANN create without any layer and nureons black ANN has created."
   ]
  },
  {
   "cell_type": "code",
   "execution_count": 26,
   "metadata": {},
   "outputs": [
    {
     "name": "stderr",
     "output_type": "stream",
     "text": [
      "C:\\Users\\Puneet Singh\\Anaconda3\\lib\\site-packages\\ipykernel_launcher.py:2: UserWarning: Update your `Dense` call to the Keras 2 API: `Dense(activation=\"relu\", input_dim=11, units=6, kernel_initializer=\"he_uniform\")`\n",
      "  \n"
     ]
    },
    {
     "name": "stdout",
     "output_type": "stream",
     "text": [
      "WARNING:tensorflow:From C:\\Users\\Puneet Singh\\Anaconda3\\lib\\site-packages\\tensorflow\\python\\ops\\resource_variable_ops.py:435: colocate_with (from tensorflow.python.framework.ops) is deprecated and will be removed in a future version.\n",
      "Instructions for updating:\n",
      "Colocations handled automatically by placer.\n"
     ]
    }
   ],
   "source": [
    "# Adding the input layer and the first hidden layer\n",
    "classifier.add(Dense(output_dim = 6, init = 'he_uniform',activation='relu',input_dim = 11))\n",
    "# output_dim=6 mean how many nureon have in our first layer you can change basis on accuracy\n",
    "#init='he_uniform' mean which techniques we are using for intilize weights there is on more technique you can use that.\n",
    "#activation ='relu' mean which activation function you are adding , in middle hidden layer we basically use most of the time relu function \n",
    "# but on time final layer output layer we mostly use sigmoid function\n",
    "#input_dim=11 mean how many feautres you are passing into network"
   ]
  },
  {
   "cell_type": "code",
   "execution_count": 27,
   "metadata": {},
   "outputs": [
    {
     "name": "stderr",
     "output_type": "stream",
     "text": [
      "C:\\Users\\Puneet Singh\\Anaconda3\\lib\\site-packages\\ipykernel_launcher.py:2: UserWarning: Update your `Dense` call to the Keras 2 API: `Dense(activation=\"relu\", units=6, kernel_initializer=\"he_uniform\")`\n",
      "  \n"
     ]
    }
   ],
   "source": [
    "# Adding the second hidden layer\n",
    "classifier.add(Dense(output_dim = 6, init = 'he_uniform',activation='relu'))\n",
    "# its second hidden layer with 6 nureons."
   ]
  },
  {
   "cell_type": "code",
   "execution_count": 28,
   "metadata": {},
   "outputs": [
    {
     "name": "stderr",
     "output_type": "stream",
     "text": [
      "C:\\Users\\Puneet Singh\\Anaconda3\\lib\\site-packages\\ipykernel_launcher.py:2: UserWarning: Update your `Dense` call to the Keras 2 API: `Dense(activation=\"sigmoid\", units=1, kernel_initializer=\"glorot_uniform\")`\n",
      "  \n"
     ]
    }
   ],
   "source": [
    "# Adding the output layer\n",
    "classifier.add(Dense(output_dim = 1, init = 'glorot_uniform', activation = 'sigmoid'))\n",
    "# its output layer only single output nerouns here activations function we are using sigmoid becoz its final output layer\n",
    "# but here weight init technique use of sigmoid glorot_uniform"
   ]
  },
  {
   "cell_type": "code",
   "execution_count": 30,
   "metadata": {},
   "outputs": [],
   "source": [
    "# Compiling the ANN\n",
    "classifier.compile(optimizer = 'Adamax', loss = 'binary_crossentropy', metrics = ['accuracy'])\n",
    "#after init our nureon network time to compile and run out network for perform some mathematics operations\n",
    "# optimizer =' adamax' mean here we are using optimizer Adamax its mostly use optimzer , we can use grainent descent or SGD, mini batch optimzer\n",
    "# loss ='binary_crossentropy' here we are use loss function but in case if your output is not 0 or 1 form .mean ur output not in classfication .then you use catorize_crossentropy\n",
    "# this loss function is classications output\n"
   ]
  },
  {
   "cell_type": "code",
   "execution_count": 31,
   "metadata": {},
   "outputs": [
    {
     "name": "stderr",
     "output_type": "stream",
     "text": [
      "C:\\Users\\Puneet Singh\\Anaconda3\\lib\\site-packages\\ipykernel_launcher.py:2: UserWarning: The `nb_epoch` argument in `fit` has been renamed `epochs`.\n",
      "  \n"
     ]
    },
    {
     "name": "stdout",
     "output_type": "stream",
     "text": [
      "WARNING:tensorflow:From C:\\Users\\Puneet Singh\\Anaconda3\\lib\\site-packages\\tensorflow\\python\\ops\\math_ops.py:3066: to_int32 (from tensorflow.python.ops.math_ops) is deprecated and will be removed in a future version.\n",
      "Instructions for updating:\n",
      "Use tf.cast instead.\n",
      "Train on 5359 samples, validate on 2641 samples\n",
      "Epoch 1/100\n",
      "5359/5359 [==============================] - 3s 557us/step - loss: 0.5079 - accuracy: 0.7951 - val_loss: 0.4924 - val_accuracy: 0.7955\n",
      "Epoch 2/100\n",
      "5359/5359 [==============================] - 2s 361us/step - loss: 0.4769 - accuracy: 0.7962 - val_loss: 0.4734 - val_accuracy: 0.7955\n",
      "Epoch 3/100\n",
      "5359/5359 [==============================] - 2s 281us/step - loss: 0.4594 - accuracy: 0.7962 - val_loss: 0.4612 - val_accuracy: 0.7955\n",
      "Epoch 4/100\n",
      "5359/5359 [==============================] - 1s 277us/step - loss: 0.4482 - accuracy: 0.7962 - val_loss: 0.4529 - val_accuracy: 0.7955\n",
      "Epoch 5/100\n",
      "5359/5359 [==============================] - 2s 283us/step - loss: 0.4408 - accuracy: 0.7962 - val_loss: 0.4484 - val_accuracy: 0.7955\n",
      "Epoch 6/100\n",
      "5359/5359 [==============================] - 1s 273us/step - loss: 0.4358 - accuracy: 0.7960 - val_loss: 0.4441 - val_accuracy: 0.7955\n",
      "Epoch 7/100\n",
      "5359/5359 [==============================] - 2s 310us/step - loss: 0.4316 - accuracy: 0.7964 - val_loss: 0.4409 - val_accuracy: 0.7952\n",
      "Epoch 8/100\n",
      "5359/5359 [==============================] - 2s 303us/step - loss: 0.4283 - accuracy: 0.7983 - val_loss: 0.4382 - val_accuracy: 0.8046\n",
      "Epoch 9/100\n",
      "5359/5359 [==============================] - 2s 300us/step - loss: 0.4254 - accuracy: 0.8166 - val_loss: 0.4359 - val_accuracy: 0.8164\n",
      "Epoch 10/100\n",
      "5359/5359 [==============================] - 1s 271us/step - loss: 0.4231 - accuracy: 0.8231 - val_loss: 0.4339 - val_accuracy: 0.8183\n",
      "Epoch 11/100\n",
      "5359/5359 [==============================] - 2s 294us/step - loss: 0.4208 - accuracy: 0.8263 - val_loss: 0.4328 - val_accuracy: 0.8167\n",
      "Epoch 12/100\n",
      "5359/5359 [==============================] - 2s 337us/step - loss: 0.4192 - accuracy: 0.8272 - val_loss: 0.4305 - val_accuracy: 0.8201\n",
      "Epoch 13/100\n",
      "5359/5359 [==============================] - 2s 288us/step - loss: 0.4172 - accuracy: 0.8287 - val_loss: 0.4288 - val_accuracy: 0.8198\n",
      "Epoch 14/100\n",
      "5359/5359 [==============================] - 2s 315us/step - loss: 0.4155 - accuracy: 0.8313 - val_loss: 0.4274 - val_accuracy: 0.8205\n",
      "Epoch 15/100\n",
      "5359/5359 [==============================] - 2s 281us/step - loss: 0.4139 - accuracy: 0.8322 - val_loss: 0.4260 - val_accuracy: 0.8209\n",
      "Epoch 16/100\n",
      "5359/5359 [==============================] - 2s 288us/step - loss: 0.4122 - accuracy: 0.8337 - val_loss: 0.4243 - val_accuracy: 0.8213\n",
      "Epoch 17/100\n",
      "5359/5359 [==============================] - 2s 339us/step - loss: 0.4100 - accuracy: 0.8336 - val_loss: 0.4220 - val_accuracy: 0.8224\n",
      "Epoch 18/100\n",
      "5359/5359 [==============================] - 2s 331us/step - loss: 0.4078 - accuracy: 0.8337 - val_loss: 0.4201 - val_accuracy: 0.8220\n",
      "Epoch 19/100\n",
      "5359/5359 [==============================] - 1s 280us/step - loss: 0.4059 - accuracy: 0.8358 - val_loss: 0.4188 - val_accuracy: 0.8228\n",
      "Epoch 20/100\n",
      "5359/5359 [==============================] - 1s 273us/step - loss: 0.4042 - accuracy: 0.8343 - val_loss: 0.4170 - val_accuracy: 0.8220\n",
      "Epoch 21/100\n",
      "5359/5359 [==============================] - 2s 290us/step - loss: 0.4026 - accuracy: 0.8347 - val_loss: 0.4161 - val_accuracy: 0.8228\n",
      "Epoch 22/100\n",
      "5359/5359 [==============================] - 1s 278us/step - loss: 0.4011 - accuracy: 0.8339 - val_loss: 0.4143 - val_accuracy: 0.8236\n",
      "Epoch 23/100\n",
      "5359/5359 [==============================] - 2s 282us/step - loss: 0.3998 - accuracy: 0.8350 - val_loss: 0.4129 - val_accuracy: 0.8232\n",
      "Epoch 24/100\n",
      "5359/5359 [==============================] - 2s 281us/step - loss: 0.3984 - accuracy: 0.8349 - val_loss: 0.4114 - val_accuracy: 0.8239\n",
      "Epoch 25/100\n",
      "5359/5359 [==============================] - 2s 285us/step - loss: 0.3971 - accuracy: 0.8352 - val_loss: 0.4100 - val_accuracy: 0.8251\n",
      "Epoch 26/100\n",
      "5359/5359 [==============================] - 2s 280us/step - loss: 0.3960 - accuracy: 0.8367 - val_loss: 0.4086 - val_accuracy: 0.8266\n",
      "Epoch 27/100\n",
      "5359/5359 [==============================] - 2s 317us/step - loss: 0.3945 - accuracy: 0.8371 - val_loss: 0.4070 - val_accuracy: 0.8270\n",
      "Epoch 28/100\n",
      "5359/5359 [==============================] - 2s 306us/step - loss: 0.3934 - accuracy: 0.8365 - val_loss: 0.4059 - val_accuracy: 0.8289\n",
      "Epoch 29/100\n",
      "5359/5359 [==============================] - 2s 288us/step - loss: 0.3922 - accuracy: 0.8371 - val_loss: 0.4050 - val_accuracy: 0.8281\n",
      "Epoch 30/100\n",
      "5359/5359 [==============================] - 1s 280us/step - loss: 0.3908 - accuracy: 0.8380 - val_loss: 0.4039 - val_accuracy: 0.8281\n",
      "Epoch 31/100\n",
      "5359/5359 [==============================] - 2s 286us/step - loss: 0.3895 - accuracy: 0.8386 - val_loss: 0.4032 - val_accuracy: 0.8334\n",
      "Epoch 32/100\n",
      "5359/5359 [==============================] - 1s 275us/step - loss: 0.3888 - accuracy: 0.8391 - val_loss: 0.4016 - val_accuracy: 0.8319\n",
      "Epoch 33/100\n",
      "5359/5359 [==============================] - 2s 283us/step - loss: 0.3875 - accuracy: 0.8405 - val_loss: 0.4014 - val_accuracy: 0.8315\n",
      "Epoch 34/100\n",
      "5359/5359 [==============================] - 2s 298us/step - loss: 0.3868 - accuracy: 0.8395 - val_loss: 0.4002 - val_accuracy: 0.8311\n",
      "Epoch 35/100\n",
      "5359/5359 [==============================] - 1s 277us/step - loss: 0.3861 - accuracy: 0.8412 - val_loss: 0.3994 - val_accuracy: 0.8323\n",
      "Epoch 36/100\n",
      "5359/5359 [==============================] - 2s 284us/step - loss: 0.3851 - accuracy: 0.8386 - val_loss: 0.3986 - val_accuracy: 0.8326\n",
      "Epoch 37/100\n",
      "5359/5359 [==============================] - 2s 305us/step - loss: 0.3841 - accuracy: 0.8399 - val_loss: 0.3974 - val_accuracy: 0.8353\n",
      "Epoch 38/100\n",
      "5359/5359 [==============================] - 2s 333us/step - loss: 0.3832 - accuracy: 0.8418 - val_loss: 0.3967 - val_accuracy: 0.8372\n",
      "Epoch 39/100\n",
      "5359/5359 [==============================] - 2s 312us/step - loss: 0.3822 - accuracy: 0.8423 - val_loss: 0.3962 - val_accuracy: 0.8345\n",
      "Epoch 40/100\n",
      "5359/5359 [==============================] - 2s 290us/step - loss: 0.3812 - accuracy: 0.8429 - val_loss: 0.3964 - val_accuracy: 0.8345\n",
      "Epoch 41/100\n",
      "5359/5359 [==============================] - 2s 304us/step - loss: 0.3803 - accuracy: 0.8421 - val_loss: 0.3949 - val_accuracy: 0.8342\n",
      "Epoch 42/100\n",
      "5359/5359 [==============================] - 2s 280us/step - loss: 0.3793 - accuracy: 0.8442 - val_loss: 0.3939 - val_accuracy: 0.8338\n",
      "Epoch 43/100\n",
      "5359/5359 [==============================] - 1s 279us/step - loss: 0.3779 - accuracy: 0.8455 - val_loss: 0.3934 - val_accuracy: 0.8334\n",
      "Epoch 44/100\n",
      "5359/5359 [==============================] - 2s 287us/step - loss: 0.3770 - accuracy: 0.8457 - val_loss: 0.3932 - val_accuracy: 0.8368\n",
      "Epoch 45/100\n",
      "5359/5359 [==============================] - 1s 274us/step - loss: 0.3760 - accuracy: 0.8468 - val_loss: 0.3910 - val_accuracy: 0.8387\n",
      "Epoch 46/100\n",
      "5359/5359 [==============================] - 2s 306us/step - loss: 0.3746 - accuracy: 0.8475 - val_loss: 0.3911 - val_accuracy: 0.8406\n",
      "Epoch 47/100\n",
      "5359/5359 [==============================] - 2s 315us/step - loss: 0.3732 - accuracy: 0.8459 - val_loss: 0.3898 - val_accuracy: 0.8376\n",
      "Epoch 48/100\n",
      "5359/5359 [==============================] - 2s 330us/step - loss: 0.3723 - accuracy: 0.8464 - val_loss: 0.3886 - val_accuracy: 0.8413\n",
      "Epoch 49/100\n",
      "5359/5359 [==============================] - 2s 288us/step - loss: 0.3708 - accuracy: 0.8513 - val_loss: 0.3872 - val_accuracy: 0.8432\n",
      "Epoch 50/100\n",
      "5359/5359 [==============================] - 2s 288us/step - loss: 0.3700 - accuracy: 0.8496 - val_loss: 0.3865 - val_accuracy: 0.8440\n",
      "Epoch 51/100\n",
      "5359/5359 [==============================] - 2s 296us/step - loss: 0.3686 - accuracy: 0.8494 - val_loss: 0.3856 - val_accuracy: 0.8425\n",
      "Epoch 52/100\n",
      "5359/5359 [==============================] - 2s 306us/step - loss: 0.3671 - accuracy: 0.8520 - val_loss: 0.3845 - val_accuracy: 0.8459\n",
      "Epoch 53/100\n",
      "5359/5359 [==============================] - 2s 343us/step - loss: 0.3658 - accuracy: 0.8524 - val_loss: 0.3835 - val_accuracy: 0.8474\n",
      "Epoch 54/100\n"
     ]
    },
    {
     "name": "stdout",
     "output_type": "stream",
     "text": [
      "5359/5359 [==============================] - 1s 264us/step - loss: 0.3645 - accuracy: 0.8517 - val_loss: 0.3826 - val_accuracy: 0.8444\n",
      "Epoch 55/100\n",
      "5359/5359 [==============================] - 1s 268us/step - loss: 0.3629 - accuracy: 0.8548 - val_loss: 0.3816 - val_accuracy: 0.8489\n",
      "Epoch 56/100\n",
      "5359/5359 [==============================] - 2s 284us/step - loss: 0.3612 - accuracy: 0.8524 - val_loss: 0.3809 - val_accuracy: 0.8501\n",
      "Epoch 57/100\n",
      "5359/5359 [==============================] - 2s 312us/step - loss: 0.3596 - accuracy: 0.8531 - val_loss: 0.3787 - val_accuracy: 0.8470\n",
      "Epoch 58/100\n",
      "5359/5359 [==============================] - 2s 314us/step - loss: 0.3581 - accuracy: 0.8537 - val_loss: 0.3776 - val_accuracy: 0.8451\n",
      "Epoch 59/100\n",
      "5359/5359 [==============================] - 2s 296us/step - loss: 0.3566 - accuracy: 0.8543 - val_loss: 0.3756 - val_accuracy: 0.8485\n",
      "Epoch 60/100\n",
      "5359/5359 [==============================] - 2s 291us/step - loss: 0.3552 - accuracy: 0.8558 - val_loss: 0.3745 - val_accuracy: 0.8489\n",
      "Epoch 61/100\n",
      "5359/5359 [==============================] - 1s 273us/step - loss: 0.3531 - accuracy: 0.8561 - val_loss: 0.3731 - val_accuracy: 0.8474\n",
      "Epoch 62/100\n",
      "5359/5359 [==============================] - 1s 274us/step - loss: 0.3516 - accuracy: 0.8589 - val_loss: 0.3716 - val_accuracy: 0.8485\n",
      "Epoch 63/100\n",
      "5359/5359 [==============================] - 1s 268us/step - loss: 0.3501 - accuracy: 0.8571 - val_loss: 0.3705 - val_accuracy: 0.8485\n",
      "Epoch 64/100\n",
      "5359/5359 [==============================] - 2s 297us/step - loss: 0.3484 - accuracy: 0.8561 - val_loss: 0.3692 - val_accuracy: 0.8497\n",
      "Epoch 65/100\n",
      "5359/5359 [==============================] - 1s 269us/step - loss: 0.3468 - accuracy: 0.8589 - val_loss: 0.3686 - val_accuracy: 0.8501\n",
      "Epoch 66/100\n",
      "5359/5359 [==============================] - 1s 270us/step - loss: 0.3452 - accuracy: 0.8587 - val_loss: 0.3687 - val_accuracy: 0.8527\n",
      "Epoch 67/100\n",
      "5359/5359 [==============================] - 1s 270us/step - loss: 0.3439 - accuracy: 0.8614 - val_loss: 0.3672 - val_accuracy: 0.8508\n",
      "Epoch 68/100\n",
      "5359/5359 [==============================] - 2s 321us/step - loss: 0.3425 - accuracy: 0.8599 - val_loss: 0.3662 - val_accuracy: 0.8489\n",
      "Epoch 69/100\n",
      "5359/5359 [==============================] - 2s 298us/step - loss: 0.3414 - accuracy: 0.8610 - val_loss: 0.3655 - val_accuracy: 0.8493\n",
      "Epoch 70/100\n",
      "5359/5359 [==============================] - 2s 286us/step - loss: 0.3401 - accuracy: 0.8606 - val_loss: 0.3642 - val_accuracy: 0.8478\n",
      "Epoch 71/100\n",
      "5359/5359 [==============================] - 2s 293us/step - loss: 0.3392 - accuracy: 0.8602 - val_loss: 0.3640 - val_accuracy: 0.8512\n",
      "Epoch 72/100\n",
      "5359/5359 [==============================] - 1s 270us/step - loss: 0.3380 - accuracy: 0.8623 - val_loss: 0.3628 - val_accuracy: 0.8485\n",
      "Epoch 73/100\n",
      "5359/5359 [==============================] - 2s 295us/step - loss: 0.3370 - accuracy: 0.8628 - val_loss: 0.3621 - val_accuracy: 0.8512\n",
      "Epoch 74/100\n",
      "5359/5359 [==============================] - 1s 272us/step - loss: 0.3363 - accuracy: 0.8630 - val_loss: 0.3634 - val_accuracy: 0.8512\n",
      "Epoch 75/100\n",
      "5359/5359 [==============================] - 1s 280us/step - loss: 0.3358 - accuracy: 0.8638 - val_loss: 0.3613 - val_accuracy: 0.8512\n",
      "Epoch 76/100\n",
      "5359/5359 [==============================] - 2s 346us/step - loss: 0.3347 - accuracy: 0.8636 - val_loss: 0.3613 - val_accuracy: 0.8512\n",
      "Epoch 77/100\n",
      "5359/5359 [==============================] - 2s 356us/step - loss: 0.3344 - accuracy: 0.8615 - val_loss: 0.3604 - val_accuracy: 0.8512\n",
      "Epoch 78/100\n",
      "5359/5359 [==============================] - 2s 307us/step - loss: 0.3336 - accuracy: 0.8653 - val_loss: 0.3601 - val_accuracy: 0.8523\n",
      "Epoch 79/100\n",
      "5359/5359 [==============================] - 2s 304us/step - loss: 0.3332 - accuracy: 0.8645 - val_loss: 0.3602 - val_accuracy: 0.8523\n",
      "Epoch 80/100\n",
      "5359/5359 [==============================] - 1s 267us/step - loss: 0.3329 - accuracy: 0.8645 - val_loss: 0.3595 - val_accuracy: 0.8516\n",
      "Epoch 81/100\n",
      "5359/5359 [==============================] - 2s 284us/step - loss: 0.3323 - accuracy: 0.8662 - val_loss: 0.3593 - val_accuracy: 0.8516\n",
      "Epoch 82/100\n",
      "5359/5359 [==============================] - 2s 315us/step - loss: 0.3318 - accuracy: 0.8655 - val_loss: 0.3590 - val_accuracy: 0.8519\n",
      "Epoch 83/100\n",
      "5359/5359 [==============================] - 2s 341us/step - loss: 0.3315 - accuracy: 0.8664 - val_loss: 0.3592 - val_accuracy: 0.8512\n",
      "Epoch 84/100\n",
      "5359/5359 [==============================] - 2s 308us/step - loss: 0.3312 - accuracy: 0.8643 - val_loss: 0.3586 - val_accuracy: 0.8523\n",
      "Epoch 85/100\n",
      "5359/5359 [==============================] - 2s 288us/step - loss: 0.3308 - accuracy: 0.8670 - val_loss: 0.3586 - val_accuracy: 0.8523\n",
      "Epoch 86/100\n",
      "5359/5359 [==============================] - 2s 282us/step - loss: 0.3306 - accuracy: 0.8673 - val_loss: 0.3578 - val_accuracy: 0.8542\n",
      "Epoch 87/100\n",
      "5359/5359 [==============================] - 2s 314us/step - loss: 0.3304 - accuracy: 0.8656 - val_loss: 0.3580 - val_accuracy: 0.8531\n",
      "Epoch 88/100\n",
      "5359/5359 [==============================] - 2s 317us/step - loss: 0.3300 - accuracy: 0.8649 - val_loss: 0.3581 - val_accuracy: 0.8531\n",
      "Epoch 89/100\n",
      "5359/5359 [==============================] - 2s 302us/step - loss: 0.3296 - accuracy: 0.8655 - val_loss: 0.3577 - val_accuracy: 0.8531\n",
      "Epoch 90/100\n",
      "5359/5359 [==============================] - 2s 312us/step - loss: 0.3293 - accuracy: 0.8647 - val_loss: 0.3574 - val_accuracy: 0.8531\n",
      "Epoch 91/100\n",
      "5359/5359 [==============================] - 2s 286us/step - loss: 0.3291 - accuracy: 0.8656 - val_loss: 0.3574 - val_accuracy: 0.8531\n",
      "Epoch 92/100\n",
      "5359/5359 [==============================] - 2s 281us/step - loss: 0.3290 - accuracy: 0.8649 - val_loss: 0.3576 - val_accuracy: 0.8531\n",
      "Epoch 93/100\n",
      "5359/5359 [==============================] - 2s 285us/step - loss: 0.3286 - accuracy: 0.8668 - val_loss: 0.3563 - val_accuracy: 0.8535\n",
      "Epoch 94/100\n",
      "5359/5359 [==============================] - 1s 274us/step - loss: 0.3284 - accuracy: 0.8671 - val_loss: 0.3562 - val_accuracy: 0.8542\n",
      "Epoch 95/100\n",
      "5359/5359 [==============================] - 2s 286us/step - loss: 0.3279 - accuracy: 0.8675 - val_loss: 0.3566 - val_accuracy: 0.8531\n",
      "Epoch 96/100\n",
      "5359/5359 [==============================] - 2s 305us/step - loss: 0.3280 - accuracy: 0.8675 - val_loss: 0.3559 - val_accuracy: 0.8527\n",
      "Epoch 97/100\n",
      "5359/5359 [==============================] - 2s 312us/step - loss: 0.3277 - accuracy: 0.8673 - val_loss: 0.3558 - val_accuracy: 0.8531\n",
      "Epoch 98/100\n",
      "5359/5359 [==============================] - 2s 314us/step - loss: 0.3274 - accuracy: 0.8673 - val_loss: 0.3553 - val_accuracy: 0.8538\n",
      "Epoch 99/100\n",
      "5359/5359 [==============================] - 2s 305us/step - loss: 0.3272 - accuracy: 0.8666 - val_loss: 0.3553 - val_accuracy: 0.8542\n",
      "Epoch 100/100\n",
      "5359/5359 [==============================] - 2s 283us/step - loss: 0.3268 - accuracy: 0.8670 - val_loss: 0.3561 - val_accuracy: 0.8538\n"
     ]
    }
   ],
   "source": [
    "# Fitting the ANN to the Training set\n",
    "model_history=classifier.fit(X_train, y_train,validation_split=0.33, batch_size = 10, nb_epoch = 100)\n",
    "# after ANN init and Compile , now time to add some data into our ANN network for learn and do predictions\n",
    "#X_train = our trainig data give to ANN for treand and learn\n",
    "#Y_train= gove our trainig output \n",
    "# validation_split =0.33 mean we take seperatly 0.33 data for testing from this training dataset\n",
    "#batch_size = 10 mean we add only 10 data set for reduce our computation power. you can take n data set which is 1 milllion or more.\n",
    "#nb_epoch=100 mean our network goes 100 th iteration backward and forward and each iteration it calculate weight and activations function and for back propagation it calculate derivation and update weight every iterations\n",
    "# so our algo epoch 100 time and each iteartons increase accuracy whenever weight will update ,you can see how each itertate excute and how slowly slowly increase accuracy on jupyter spider"
   ]
  },
  {
   "cell_type": "markdown",
   "metadata": {},
   "source": [
    "#  #Part 3 - Making the predictions and evaluating the model\n"
   ]
  },
  {
   "cell_type": "code",
   "execution_count": 40,
   "metadata": {},
   "outputs": [],
   "source": [
    "# Predicting the Test set results\n",
    "y_pred = classifier.predict(X_test)# its give our output in probablity, if you want your result in probablity follow this\n",
    "\n",
    "y_pred = (y_pred > 0.5) # this convert probablity into true or false , if y_pred >0.5 =true else give false\n"
   ]
  },
  {
   "cell_type": "markdown",
   "metadata": {},
   "source": [
    "# its important above cell"
   ]
  },
  {
   "cell_type": "code",
   "execution_count": 41,
   "metadata": {},
   "outputs": [
    {
     "name": "stdout",
     "output_type": "stream",
     "text": [
      "[[1522   73]\n",
      " [ 215  190]]\n"
     ]
    }
   ],
   "source": [
    "# Making the Confusion Matrix\n",
    "from sklearn.metrics import confusion_matrix\n",
    "cm = confusion_matrix(y_test, y_pred)\n",
    "print(cm)"
   ]
  },
  {
   "cell_type": "code",
   "execution_count": 42,
   "metadata": {},
   "outputs": [
    {
     "name": "stdout",
     "output_type": "stream",
     "text": [
      "0.856\n"
     ]
    }
   ],
   "source": [
    "# Calculate the Accuracy\n",
    "from sklearn.metrics import accuracy_score\n",
    "score=accuracy_score(y_pred,y_test)\n",
    "print(score)\n"
   ]
  },
  {
   "cell_type": "markdown",
   "metadata": {},
   "source": [
    "# for better accuracy you check all combinations of hidden layer,optimizer,loss fun,weight init,iterations.\n"
   ]
  },
  {
   "cell_type": "markdown",
   "metadata": {},
   "source": [
    "# #part 4 - we create again ANN  with same parameters but in here we use drop out for check overfitting"
   ]
  },
  {
   "cell_type": "code",
   "execution_count": 43,
   "metadata": {},
   "outputs": [],
   "source": [
    "classifier = Sequential()\n",
    "#we apply dropout in every layer for check overfitting\n",
    "#important thing dropdown where i should be use where data point is miilions and  in deep nureal networks"
   ]
  },
  {
   "cell_type": "code",
   "execution_count": 44,
   "metadata": {},
   "outputs": [
    {
     "name": "stderr",
     "output_type": "stream",
     "text": [
      "C:\\Users\\Puneet Singh\\Anaconda3\\lib\\site-packages\\ipykernel_launcher.py:1: UserWarning: Update your `Dense` call to the Keras 2 API: `Dense(activation=\"relu\", input_dim=11, units=6, kernel_initializer=\"he_uniform\")`\n",
      "  \"\"\"Entry point for launching an IPython kernel.\n"
     ]
    }
   ],
   "source": [
    "classifier.add(Dense(output_dim = 6, init = 'he_uniform',activation='relu',input_dim = 11))\n",
    "classifier.add(Dropout(0.3)) #you very well know about drop out , if not go copy notes"
   ]
  },
  {
   "cell_type": "code",
   "execution_count": 45,
   "metadata": {},
   "outputs": [
    {
     "name": "stderr",
     "output_type": "stream",
     "text": [
      "C:\\Users\\Puneet Singh\\Anaconda3\\lib\\site-packages\\ipykernel_launcher.py:1: UserWarning: Update your `Dense` call to the Keras 2 API: `Dense(activation=\"relu\", units=6, kernel_initializer=\"he_uniform\")`\n",
      "  \"\"\"Entry point for launching an IPython kernel.\n"
     ]
    }
   ],
   "source": [
    "classifier.add(Dense(output_dim = 6, init = 'he_uniform',activation='relu'))\n",
    "classifier.add(Dropout(0.3)) #you very well know about drop out , if not go copy notes"
   ]
  },
  {
   "cell_type": "code",
   "execution_count": 46,
   "metadata": {},
   "outputs": [],
   "source": [
    "# now compile and do same above"
   ]
  },
  {
   "cell_type": "code",
   "execution_count": 48,
   "metadata": {},
   "outputs": [
    {
     "name": "stderr",
     "output_type": "stream",
     "text": [
      "C:\\Users\\Puneet Singh\\Anaconda3\\lib\\site-packages\\ipykernel_launcher.py:1: UserWarning: Update your `Dense` call to the Keras 2 API: `Dense(activation=\"sigmoid\", units=1, kernel_initializer=\"glorot_uniform\")`\n",
      "  \"\"\"Entry point for launching an IPython kernel.\n"
     ]
    }
   ],
   "source": [
    "classifier.add(Dense(output_dim = 1, init = 'glorot_uniform', activation = 'sigmoid'))\n"
   ]
  },
  {
   "cell_type": "code",
   "execution_count": 49,
   "metadata": {},
   "outputs": [
    {
     "name": "stderr",
     "output_type": "stream",
     "text": [
      "C:\\Users\\Puneet Singh\\Anaconda3\\lib\\site-packages\\ipykernel_launcher.py:5: UserWarning: The `nb_epoch` argument in `fit` has been renamed `epochs`.\n",
      "  \"\"\"\n"
     ]
    },
    {
     "name": "stdout",
     "output_type": "stream",
     "text": [
      "Train on 5359 samples, validate on 2641 samples\n",
      "Epoch 1/100\n",
      "5359/5359 [==============================] - 3s 500us/step - loss: 0.6002 - accuracy: 0.7412 - val_loss: 0.4970 - val_accuracy: 0.7955\n",
      "Epoch 2/100\n",
      "5359/5359 [==============================] - 2s 312us/step - loss: 0.5203 - accuracy: 0.7904 - val_loss: 0.4792 - val_accuracy: 0.7955\n",
      "Epoch 3/100\n",
      "5359/5359 [==============================] - 2s 360us/step - loss: 0.5046 - accuracy: 0.7929 - val_loss: 0.4722 - val_accuracy: 0.7955\n",
      "Epoch 4/100\n",
      "5359/5359 [==============================] - 2s 311us/step - loss: 0.4964 - accuracy: 0.7949 - val_loss: 0.4678 - val_accuracy: 0.7955\n",
      "Epoch 5/100\n",
      "5359/5359 [==============================] - 2s 331us/step - loss: 0.4866 - accuracy: 0.7947 - val_loss: 0.4637 - val_accuracy: 0.7955\n",
      "Epoch 6/100\n",
      "5359/5359 [==============================] - 2s 356us/step - loss: 0.4795 - accuracy: 0.7957 - val_loss: 0.4603 - val_accuracy: 0.7955\n",
      "Epoch 7/100\n",
      "5359/5359 [==============================] - 2s 347us/step - loss: 0.4748 - accuracy: 0.7960 - val_loss: 0.4577 - val_accuracy: 0.7955\n",
      "Epoch 8/100\n",
      "5359/5359 [==============================] - 2s 317us/step - loss: 0.4779 - accuracy: 0.7959 - val_loss: 0.4559 - val_accuracy: 0.7955\n",
      "Epoch 9/100\n",
      "5359/5359 [==============================] - 2s 404us/step - loss: 0.4736 - accuracy: 0.7964 - val_loss: 0.4542 - val_accuracy: 0.7955\n",
      "Epoch 10/100\n",
      "5359/5359 [==============================] - 2s 339us/step - loss: 0.4669 - accuracy: 0.7960 - val_loss: 0.4517 - val_accuracy: 0.7955\n",
      "Epoch 11/100\n",
      "5359/5359 [==============================] - 2s 336us/step - loss: 0.4671 - accuracy: 0.7962 - val_loss: 0.4504 - val_accuracy: 0.7955\n",
      "Epoch 12/100\n",
      "5359/5359 [==============================] - 2s 304us/step - loss: 0.4658 - accuracy: 0.7962 - val_loss: 0.4495 - val_accuracy: 0.7955\n",
      "Epoch 13/100\n",
      "5359/5359 [==============================] - 2s 304us/step - loss: 0.4667 - accuracy: 0.7962 - val_loss: 0.4483 - val_accuracy: 0.7955\n",
      "Epoch 14/100\n",
      "5359/5359 [==============================] - 2s 309us/step - loss: 0.4645 - accuracy: 0.7962 - val_loss: 0.4483 - val_accuracy: 0.7955\n",
      "Epoch 15/100\n",
      "5359/5359 [==============================] - 2s 360us/step - loss: 0.4592 - accuracy: 0.7962 - val_loss: 0.4467 - val_accuracy: 0.7955\n",
      "Epoch 16/100\n",
      "5359/5359 [==============================] - 2s 335us/step - loss: 0.4557 - accuracy: 0.7962 - val_loss: 0.4446 - val_accuracy: 0.7955\n",
      "Epoch 17/100\n",
      "5359/5359 [==============================] - 2s 343us/step - loss: 0.4592 - accuracy: 0.7962 - val_loss: 0.4448 - val_accuracy: 0.7955\n",
      "Epoch 18/100\n",
      "5359/5359 [==============================] - 2s 305us/step - loss: 0.4575 - accuracy: 0.7962 - val_loss: 0.4443 - val_accuracy: 0.7955\n",
      "Epoch 19/100\n",
      "5359/5359 [==============================] - 2s 333us/step - loss: 0.4609 - accuracy: 0.7962 - val_loss: 0.4443 - val_accuracy: 0.7955\n",
      "Epoch 20/100\n",
      "5359/5359 [==============================] - 2s 380us/step - loss: 0.4578 - accuracy: 0.7962 - val_loss: 0.4437 - val_accuracy: 0.7955\n",
      "Epoch 21/100\n",
      "5359/5359 [==============================] - 2s 309us/step - loss: 0.4572 - accuracy: 0.7962 - val_loss: 0.4431 - val_accuracy: 0.7955\n",
      "Epoch 22/100\n",
      "5359/5359 [==============================] - 2s 316us/step - loss: 0.4556 - accuracy: 0.7962 - val_loss: 0.4420 - val_accuracy: 0.7955\n",
      "Epoch 23/100\n",
      "5359/5359 [==============================] - 2s 323us/step - loss: 0.4577 - accuracy: 0.7962 - val_loss: 0.4415 - val_accuracy: 0.7955\n",
      "Epoch 24/100\n",
      "5359/5359 [==============================] - 2s 341us/step - loss: 0.4561 - accuracy: 0.7962 - val_loss: 0.4412 - val_accuracy: 0.7955\n",
      "Epoch 25/100\n",
      "5359/5359 [==============================] - 2s 366us/step - loss: 0.4541 - accuracy: 0.7962 - val_loss: 0.4403 - val_accuracy: 0.7955\n",
      "Epoch 26/100\n",
      "5359/5359 [==============================] - 2s 319us/step - loss: 0.4537 - accuracy: 0.7962 - val_loss: 0.4395 - val_accuracy: 0.7955\n",
      "Epoch 27/100\n",
      "5359/5359 [==============================] - 2s 337us/step - loss: 0.4526 - accuracy: 0.7962 - val_loss: 0.4389 - val_accuracy: 0.7955\n",
      "Epoch 28/100\n",
      "5359/5359 [==============================] - 2s 320us/step - loss: 0.4511 - accuracy: 0.7962 - val_loss: 0.4379 - val_accuracy: 0.7955\n",
      "Epoch 29/100\n",
      "5359/5359 [==============================] - 2s 331us/step - loss: 0.4539 - accuracy: 0.7962 - val_loss: 0.4382 - val_accuracy: 0.7955\n",
      "Epoch 30/100\n",
      "5359/5359 [==============================] - 2s 334us/step - loss: 0.4500 - accuracy: 0.7962 - val_loss: 0.4372 - val_accuracy: 0.7955\n",
      "Epoch 31/100\n",
      "5359/5359 [==============================] - 2s 339us/step - loss: 0.4473 - accuracy: 0.7962 - val_loss: 0.4361 - val_accuracy: 0.7955\n",
      "Epoch 32/100\n",
      "5359/5359 [==============================] - 2s 345us/step - loss: 0.4517 - accuracy: 0.7962 - val_loss: 0.4366 - val_accuracy: 0.7955\n",
      "Epoch 33/100\n",
      "5359/5359 [==============================] - 2s 348us/step - loss: 0.4522 - accuracy: 0.7962 - val_loss: 0.4362 - val_accuracy: 0.7955\n",
      "Epoch 34/100\n",
      "5359/5359 [==============================] - 2s 330us/step - loss: 0.4529 - accuracy: 0.7962 - val_loss: 0.4353 - val_accuracy: 0.7955\n",
      "Epoch 35/100\n",
      "5359/5359 [==============================] - 2s 320us/step - loss: 0.4449 - accuracy: 0.7962 - val_loss: 0.4346 - val_accuracy: 0.7955\n",
      "Epoch 36/100\n",
      "5359/5359 [==============================] - 2s 350us/step - loss: 0.4456 - accuracy: 0.7962 - val_loss: 0.4336 - val_accuracy: 0.7955\n",
      "Epoch 37/100\n",
      "5359/5359 [==============================] - 2s 324us/step - loss: 0.4474 - accuracy: 0.7962 - val_loss: 0.4328 - val_accuracy: 0.7955\n",
      "Epoch 38/100\n",
      "5359/5359 [==============================] - 2s 308us/step - loss: 0.4450 - accuracy: 0.7962 - val_loss: 0.4305 - val_accuracy: 0.7955\n",
      "Epoch 39/100\n",
      "5359/5359 [==============================] - 2s 331us/step - loss: 0.4408 - accuracy: 0.7962 - val_loss: 0.4296 - val_accuracy: 0.7955\n",
      "Epoch 40/100\n",
      "5359/5359 [==============================] - 2s 354us/step - loss: 0.4393 - accuracy: 0.7962 - val_loss: 0.4283 - val_accuracy: 0.7955\n",
      "Epoch 41/100\n",
      "5359/5359 [==============================] - 2s 373us/step - loss: 0.4474 - accuracy: 0.7962 - val_loss: 0.4282 - val_accuracy: 0.7955\n",
      "Epoch 42/100\n",
      "5359/5359 [==============================] - 2s 351us/step - loss: 0.4487 - accuracy: 0.7962 - val_loss: 0.4286 - val_accuracy: 0.7955\n",
      "Epoch 43/100\n",
      "5359/5359 [==============================] - 2s 342us/step - loss: 0.4434 - accuracy: 0.7962 - val_loss: 0.4274 - val_accuracy: 0.7955\n",
      "Epoch 44/100\n",
      "5359/5359 [==============================] - 2s 318us/step - loss: 0.4429 - accuracy: 0.7962 - val_loss: 0.4264 - val_accuracy: 0.7955\n",
      "Epoch 45/100\n",
      "5359/5359 [==============================] - 2s 329us/step - loss: 0.4454 - accuracy: 0.7962 - val_loss: 0.4266 - val_accuracy: 0.7955\n",
      "Epoch 46/100\n",
      "5359/5359 [==============================] - 2s 335us/step - loss: 0.4427 - accuracy: 0.7962 - val_loss: 0.4264 - val_accuracy: 0.7955\n",
      "Epoch 47/100\n",
      "5359/5359 [==============================] - 2s 312us/step - loss: 0.4404 - accuracy: 0.7962 - val_loss: 0.4247 - val_accuracy: 0.7955\n",
      "Epoch 48/100\n",
      "5359/5359 [==============================] - 2s 335us/step - loss: 0.4462 - accuracy: 0.7962 - val_loss: 0.4249 - val_accuracy: 0.7955\n",
      "Epoch 49/100\n",
      "5359/5359 [==============================] - 2s 313us/step - loss: 0.4448 - accuracy: 0.7962 - val_loss: 0.4243 - val_accuracy: 0.7955\n",
      "Epoch 50/100\n",
      "5359/5359 [==============================] - 2s 321us/step - loss: 0.4411 - accuracy: 0.7962 - val_loss: 0.4246 - val_accuracy: 0.7955\n",
      "Epoch 51/100\n",
      "5359/5359 [==============================] - 2s 353us/step - loss: 0.4452 - accuracy: 0.7962 - val_loss: 0.4237 - val_accuracy: 0.7955\n",
      "Epoch 52/100\n",
      "5359/5359 [==============================] - 2s 348us/step - loss: 0.4424 - accuracy: 0.7962 - val_loss: 0.4226 - val_accuracy: 0.7955\n",
      "Epoch 53/100\n",
      "5359/5359 [==============================] - 2s 316us/step - loss: 0.4424 - accuracy: 0.7962 - val_loss: 0.4221 - val_accuracy: 0.7955\n",
      "Epoch 54/100\n",
      "5359/5359 [==============================] - 2s 363us/step - loss: 0.4426 - accuracy: 0.7962 - val_loss: 0.4216 - val_accuracy: 0.7955\n",
      "Epoch 55/100\n",
      "5359/5359 [==============================] - 2s 343us/step - loss: 0.4425 - accuracy: 0.7962 - val_loss: 0.4216 - val_accuracy: 0.7955\n",
      "Epoch 56/100\n"
     ]
    },
    {
     "name": "stdout",
     "output_type": "stream",
     "text": [
      "5359/5359 [==============================] - 2s 357us/step - loss: 0.4379 - accuracy: 0.7962 - val_loss: 0.4199 - val_accuracy: 0.7955\n",
      "Epoch 57/100\n",
      "5359/5359 [==============================] - 2s 307us/step - loss: 0.4365 - accuracy: 0.7962 - val_loss: 0.4195 - val_accuracy: 0.7955\n",
      "Epoch 58/100\n",
      "5359/5359 [==============================] - 2s 324us/step - loss: 0.4351 - accuracy: 0.7962 - val_loss: 0.4189 - val_accuracy: 0.7955\n",
      "Epoch 59/100\n",
      "5359/5359 [==============================] - 2s 325us/step - loss: 0.4415 - accuracy: 0.7962 - val_loss: 0.4197 - val_accuracy: 0.7955\n",
      "Epoch 60/100\n",
      "5359/5359 [==============================] - 2s 341us/step - loss: 0.4372 - accuracy: 0.7962 - val_loss: 0.4179 - val_accuracy: 0.7955\n",
      "Epoch 61/100\n",
      "5359/5359 [==============================] - 2s 322us/step - loss: 0.4325 - accuracy: 0.7962 - val_loss: 0.4180 - val_accuracy: 0.7955\n",
      "Epoch 62/100\n",
      "5359/5359 [==============================] - 2s 336us/step - loss: 0.4351 - accuracy: 0.7962 - val_loss: 0.4193 - val_accuracy: 0.7955\n",
      "Epoch 63/100\n",
      "5359/5359 [==============================] - 2s 317us/step - loss: 0.4397 - accuracy: 0.7962 - val_loss: 0.4178 - val_accuracy: 0.7955\n",
      "Epoch 64/100\n",
      "5359/5359 [==============================] - 2s 302us/step - loss: 0.4295 - accuracy: 0.7962 - val_loss: 0.4170 - val_accuracy: 0.7955\n",
      "Epoch 65/100\n",
      "5359/5359 [==============================] - 2s 305us/step - loss: 0.4348 - accuracy: 0.7962 - val_loss: 0.4169 - val_accuracy: 0.7955\n",
      "Epoch 66/100\n",
      "5359/5359 [==============================] - 2s 304us/step - loss: 0.4398 - accuracy: 0.7962 - val_loss: 0.4173 - val_accuracy: 0.7955\n",
      "Epoch 67/100\n",
      "5359/5359 [==============================] - 2s 296us/step - loss: 0.4391 - accuracy: 0.7962 - val_loss: 0.4168 - val_accuracy: 0.7955\n",
      "Epoch 68/100\n",
      "5359/5359 [==============================] - 2s 304us/step - loss: 0.4419 - accuracy: 0.7962 - val_loss: 0.4173 - val_accuracy: 0.7955\n",
      "Epoch 69/100\n",
      "5359/5359 [==============================] - 2s 343us/step - loss: 0.4381 - accuracy: 0.7962 - val_loss: 0.4168 - val_accuracy: 0.7955\n",
      "Epoch 70/100\n",
      "5359/5359 [==============================] - 2s 333us/step - loss: 0.4401 - accuracy: 0.7962 - val_loss: 0.4167 - val_accuracy: 0.7955\n",
      "Epoch 71/100\n",
      "5359/5359 [==============================] - 2s 298us/step - loss: 0.4330 - accuracy: 0.7962 - val_loss: 0.4152 - val_accuracy: 0.7955\n",
      "Epoch 72/100\n",
      "5359/5359 [==============================] - 2s 299us/step - loss: 0.4346 - accuracy: 0.7962 - val_loss: 0.4160 - val_accuracy: 0.7955\n",
      "Epoch 73/100\n",
      "5359/5359 [==============================] - 2s 316us/step - loss: 0.4338 - accuracy: 0.7962 - val_loss: 0.4154 - val_accuracy: 0.7955\n",
      "Epoch 74/100\n",
      "5359/5359 [==============================] - 2s 295us/step - loss: 0.4368 - accuracy: 0.7962 - val_loss: 0.4152 - val_accuracy: 0.7955\n",
      "Epoch 75/100\n",
      "5359/5359 [==============================] - 2s 308us/step - loss: 0.4340 - accuracy: 0.7962 - val_loss: 0.4149 - val_accuracy: 0.7955\n",
      "Epoch 76/100\n",
      "5359/5359 [==============================] - 2s 291us/step - loss: 0.4365 - accuracy: 0.7962 - val_loss: 0.4151 - val_accuracy: 0.7955\n",
      "Epoch 77/100\n",
      "5359/5359 [==============================] - 2s 315us/step - loss: 0.4305 - accuracy: 0.7962 - val_loss: 0.4141 - val_accuracy: 0.7955\n",
      "Epoch 78/100\n",
      "5359/5359 [==============================] - 2s 350us/step - loss: 0.4397 - accuracy: 0.7962 - val_loss: 0.4159 - val_accuracy: 0.7955\n",
      "Epoch 79/100\n",
      "5359/5359 [==============================] - 2s 362us/step - loss: 0.4380 - accuracy: 0.7962 - val_loss: 0.4161 - val_accuracy: 0.7955\n",
      "Epoch 80/100\n",
      "5359/5359 [==============================] - 2s 374us/step - loss: 0.4356 - accuracy: 0.7962 - val_loss: 0.4158 - val_accuracy: 0.7955\n",
      "Epoch 81/100\n",
      "5359/5359 [==============================] - 2s 376us/step - loss: 0.4359 - accuracy: 0.7962 - val_loss: 0.4147 - val_accuracy: 0.7955\n",
      "Epoch 82/100\n",
      "5359/5359 [==============================] - 2s 314us/step - loss: 0.4391 - accuracy: 0.7962 - val_loss: 0.4155 - val_accuracy: 0.7955\n",
      "Epoch 83/100\n",
      "5359/5359 [==============================] - 2s 324us/step - loss: 0.4311 - accuracy: 0.7962 - val_loss: 0.4140 - val_accuracy: 0.7955\n",
      "Epoch 84/100\n",
      "5359/5359 [==============================] - 2s 329us/step - loss: 0.4302 - accuracy: 0.7962 - val_loss: 0.4131 - val_accuracy: 0.7955\n",
      "Epoch 85/100\n",
      "5359/5359 [==============================] - 2s 353us/step - loss: 0.4363 - accuracy: 0.7962 - val_loss: 0.4131 - val_accuracy: 0.7955\n",
      "Epoch 86/100\n",
      "5359/5359 [==============================] - 2s 322us/step - loss: 0.4318 - accuracy: 0.7962 - val_loss: 0.4137 - val_accuracy: 0.7955\n",
      "Epoch 87/100\n",
      "5359/5359 [==============================] - 2s 339us/step - loss: 0.4392 - accuracy: 0.7962 - val_loss: 0.4154 - val_accuracy: 0.7955\n",
      "Epoch 88/100\n",
      "5359/5359 [==============================] - 2s 322us/step - loss: 0.4326 - accuracy: 0.7962 - val_loss: 0.4142 - val_accuracy: 0.7955\n",
      "Epoch 89/100\n",
      "5359/5359 [==============================] - 2s 313us/step - loss: 0.4377 - accuracy: 0.7962 - val_loss: 0.4143 - val_accuracy: 0.7955\n",
      "Epoch 90/100\n",
      "5359/5359 [==============================] - 2s 301us/step - loss: 0.4358 - accuracy: 0.7962 - val_loss: 0.4138 - val_accuracy: 0.7955\n",
      "Epoch 91/100\n",
      "5359/5359 [==============================] - 2s 292us/step - loss: 0.4339 - accuracy: 0.7962 - val_loss: 0.4137 - val_accuracy: 0.7955\n",
      "Epoch 92/100\n",
      "5359/5359 [==============================] - 2s 308us/step - loss: 0.4304 - accuracy: 0.7962 - val_loss: 0.4126 - val_accuracy: 0.7955\n",
      "Epoch 93/100\n",
      "5359/5359 [==============================] - 2s 298us/step - loss: 0.4351 - accuracy: 0.7962 - val_loss: 0.4129 - val_accuracy: 0.7955\n",
      "Epoch 94/100\n",
      "5359/5359 [==============================] - 2s 307us/step - loss: 0.4370 - accuracy: 0.7962 - val_loss: 0.4143 - val_accuracy: 0.7955\n",
      "Epoch 95/100\n",
      "5359/5359 [==============================] - 2s 316us/step - loss: 0.4333 - accuracy: 0.7962 - val_loss: 0.4128 - val_accuracy: 0.7955\n",
      "Epoch 96/100\n",
      "5359/5359 [==============================] - 2s 365us/step - loss: 0.4337 - accuracy: 0.7962 - val_loss: 0.4109 - val_accuracy: 0.7955\n",
      "Epoch 97/100\n",
      "5359/5359 [==============================] - 2s 332us/step - loss: 0.4371 - accuracy: 0.7962 - val_loss: 0.4127 - val_accuracy: 0.7955\n",
      "Epoch 98/100\n",
      "5359/5359 [==============================] - 2s 311us/step - loss: 0.4353 - accuracy: 0.7962 - val_loss: 0.4119 - val_accuracy: 0.7955\n",
      "Epoch 99/100\n",
      "5359/5359 [==============================] - 2s 300us/step - loss: 0.4312 - accuracy: 0.7962 - val_loss: 0.4112 - val_accuracy: 0.7955\n",
      "Epoch 100/100\n",
      "5359/5359 [==============================] - 2s 303us/step - loss: 0.4339 - accuracy: 0.7962 - val_loss: 0.4116 - val_accuracy: 0.7955\n"
     ]
    }
   ],
   "source": [
    "# Compiling the ANN\n",
    "classifier.compile(optimizer = 'Adamax', loss = 'binary_crossentropy', metrics = ['accuracy'])\n",
    "\n",
    "# Fitting the ANN to the Training set\n",
    "model_history=classifier.fit(X_train, y_train,validation_split=0.33, batch_size = 10, nb_epoch = 100)\n",
    "\n",
    "\n",
    "\n"
   ]
  },
  {
   "cell_type": "code",
   "execution_count": 51,
   "metadata": {},
   "outputs": [
    {
     "name": "stdout",
     "output_type": "stream",
     "text": [
      "[[1595    0]\n",
      " [ 405    0]]\n"
     ]
    }
   ],
   "source": [
    "# Part 3 - Making the predictions and evaluating the model\n",
    "\n",
    "# Predicting the Test set results\n",
    "y_pred = classifier.predict(X_test)\n",
    "y_pred = (y_pred > 0.5)\n",
    "\n",
    "# Making the Confusion Matrix\n",
    "from sklearn.metrics import confusion_matrix\n",
    "cm = confusion_matrix(y_test, y_pred)\n",
    "\n",
    "print(cm)"
   ]
  },
  {
   "cell_type": "code",
   "execution_count": 52,
   "metadata": {},
   "outputs": [
    {
     "name": "stdout",
     "output_type": "stream",
     "text": [
      "0.7975\n"
     ]
    }
   ],
   "source": [
    "# Calculate the Accuracy\n",
    "from sklearn.metrics import accuracy_score\n",
    "score=accuracy_score(y_pred,y_test)\n",
    "print(score)"
   ]
  },
  {
   "cell_type": "markdown",
   "metadata": {},
   "source": [
    "# include dropout our predition less as compare than before.but it not mean our model is in under overfitting\n",
    "# using dropout this accuracy is also good."
   ]
  },
  {
   "cell_type": "markdown",
   "metadata": {},
   "source": [
    "\n",
    "\n",
    "\n",
    "# important ------------------------------------------- it\n",
    "\n",
    "\n",
    "\n",
    "\n",
    "\n",
    "\n",
    "# question is how to find how many layer suitable for our ANN and how much nuerons should have in each and every layer, which activation function we should use \n",
    "\n",
    "# so we should try to do this combinations by hyperparameter optimization technique."
   ]
  },
  {
   "cell_type": "code",
   "execution_count": null,
   "metadata": {},
   "outputs": [],
   "source": []
  }
 ],
 "metadata": {
  "kernelspec": {
   "display_name": "Python 3",
   "language": "python",
   "name": "python3"
  },
  "language_info": {
   "codemirror_mode": {
    "name": "ipython",
    "version": 3
   },
   "file_extension": ".py",
   "mimetype": "text/x-python",
   "name": "python",
   "nbconvert_exporter": "python",
   "pygments_lexer": "ipython3",
   "version": "3.7.3"
  }
 },
 "nbformat": 4,
 "nbformat_minor": 2
}
